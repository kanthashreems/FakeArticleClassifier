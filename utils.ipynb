{
 "cells": [
  {
   "cell_type": "code",
   "execution_count": 12,
   "metadata": {
    "collapsed": true
   },
   "outputs": [],
   "source": [
    "import numpy as np"
   ]
  },
  {
   "cell_type": "code",
   "execution_count": 101,
   "metadata": {
    "collapsed": false
   },
   "outputs": [],
   "source": [
    "filename = \"../data/trainingSet.txt\"\n",
    "\n",
    "def get_article_sents(filename):\n",
    "    with open(filename, \"r\") as inp:\n",
    "        data = inp.read()\n",
    "\n",
    "    data = data.split(\"\\n\")\n",
    "    data.append(\"~~~~~ \")\n",
    "    articles = []\n",
    "    tmp = []\n",
    "    for i in data:\n",
    "        if i != \"~~~~~ \":\n",
    "            tmp.append(i)\n",
    "        else:\n",
    "            articles.append(tmp)\n",
    "            tmp = []\n",
    "    articles = articles[1:] \n",
    "    return articles\n",
    "\n",
    "def get_articles(filename):\n",
    "    with open(filename, \"r\") as inp:\n",
    "        data = inp.read()\n",
    "        \n",
    "    #data = data.split(\"~~~~~ \")\n",
    "    #data = data[1:]\n",
    "    return data"
   ]
  },
  {
   "cell_type": "code",
   "execution_count": 102,
   "metadata": {
    "collapsed": false
   },
   "outputs": [],
   "source": [
    "articles = get_article_sents(filename)\n",
    "#print len(articles)\n",
    "#list_articles = get_articles(filename)\n",
    "#print articles[0]"
   ]
  },
  {
   "cell_type": "code",
   "execution_count": 27,
   "metadata": {
    "collapsed": true
   },
   "outputs": [],
   "source": [
    "def get_labels(filename):\n",
    "    with open(filename, \"r\") as inp:\n",
    "        labels = inp.read()\n",
    "    labels = labels.split(\"\\n\")\n",
    "    labels = filter(None, labels)\n",
    "    labels = map(int, labels)\n",
    "    return labels"
   ]
  },
  {
   "cell_type": "code",
   "execution_count": 28,
   "metadata": {
    "collapsed": true
   },
   "outputs": [],
   "source": [
    "#label_fname = \"data/trainingSetLabels.dat\"\n",
    "#labels = get_labels(label_fname)"
   ]
  },
  {
   "cell_type": "code",
   "execution_count": 84,
   "metadata": {
    "collapsed": false
   },
   "outputs": [],
   "source": [
    "#print list_articles\n",
    "#print len(labels)\n",
    "#print labels[-1]"
   ]
  },
  {
   "cell_type": "code",
   "execution_count": 30,
   "metadata": {
    "collapsed": true
   },
   "outputs": [],
   "source": [
    "### Returns list of positive and negative articles\n",
    "def split_articles(articles, labels):\n",
    "    pos_article = []\n",
    "    neg_article = []\n",
    "    for i in range(len(labels)):\n",
    "        if labels[i] == 1:\n",
    "            pos_article.append(articles[i])\n",
    "        else:\n",
    "            neg_article.append(articles[i])\n",
    "    return pos_article, neg_article\n"
   ]
  },
  {
   "cell_type": "code",
   "execution_count": 31,
   "metadata": {
    "collapsed": true
   },
   "outputs": [],
   "source": [
    "#pos, neg = split_articles(articles, labels)"
   ]
  },
  {
   "cell_type": "code",
   "execution_count": 21,
   "metadata": {
    "collapsed": false
   },
   "outputs": [],
   "source": [
    "#print pos[:5]"
   ]
  },
  {
   "cell_type": "code",
   "execution_count": 22,
   "metadata": {
    "collapsed": false
   },
   "outputs": [],
   "source": [
    "#print neg[:5]"
   ]
  },
  {
   "cell_type": "code",
   "execution_count": 103,
   "metadata": {
    "collapsed": true
   },
   "outputs": [],
   "source": [
    "### Writes each article in a separate file with name article<number>.text\n",
    "def write_article_in_file(list_articles):\n",
    "    fpath = \"../data/posTraining/\"\n",
    "    for art in range(len(list_articles)):\n",
    "        fname = fpath + \"article\" + str(art) + \".text\"\n",
    "        article = [s.replace(\"<s>\",\"\").replace(\"</s>\",\".\") for s in list_articles[art]]\n",
    "        article = \"\\n\".join(article)\n",
    "        #print article\n",
    "        with open(fname, \"w\") as out:\n",
    "            out.write(article)\n",
    "    "
   ]
  },
  {
   "cell_type": "code",
   "execution_count": 104,
   "metadata": {
    "collapsed": false
   },
   "outputs": [],
   "source": [
    "write_article_in_file(articles)"
   ]
  },
  {
   "cell_type": "code",
   "execution_count": 7,
   "metadata": {
    "collapsed": true
   },
   "outputs": [],
   "source": [
    "\n",
    "### Creates the input file to calculate perplexity which has path\n",
    "### and names of all article files\n",
    "def write_input_file(filename, command, no_articles, options=\"\"):\n",
    "    with open(filename, \"w\") as out:\n",
    "        for i in range(no_articles):\n",
    "            fpath = \" ../../data/devArticles/article\" + str(i) + \".text\" + options\n",
    "            out.write(command + fpath + \"\\n\")"
   ]
  },
  {
   "cell_type": "code",
   "execution_count": 11,
   "metadata": {
    "collapsed": false
   },
   "outputs": [],
   "source": [
    "command = \"perplexity -text\"\n",
    "options = \" -backoff_from_unk_inc\"\n",
    "no_articles = len(list_articles)\n",
    "input_fname = \"../data/dev_perp_uncinc_input\"\n",
    "write_input_file(input_fname, command, no_articles)"
   ]
  },
  {
   "cell_type": "code",
   "execution_count": null,
   "metadata": {
    "collapsed": true
   },
   "outputs": [],
   "source": []
  }
 ],
 "metadata": {
  "kernelspec": {
   "display_name": "Python 2",
   "language": "python",
   "name": "python2"
  },
  "language_info": {
   "codemirror_mode": {
    "name": "ipython",
    "version": 2
   },
   "file_extension": ".py",
   "mimetype": "text/x-python",
   "name": "python",
   "nbconvert_exporter": "python",
   "pygments_lexer": "ipython2",
   "version": "2.7.11"
  }
 },
 "nbformat": 4,
 "nbformat_minor": 0
}
